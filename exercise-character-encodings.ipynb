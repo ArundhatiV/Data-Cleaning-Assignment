{
 "cells": [
  {
   "cell_type": "markdown",
   "id": "98a23363",
   "metadata": {
    "papermill": {
     "duration": 0.00534,
     "end_time": "2022-07-18T07:33:01.852627",
     "exception": false,
     "start_time": "2022-07-18T07:33:01.847287",
     "status": "completed"
    },
    "tags": []
   },
   "source": [
    "**This notebook is an exercise in the [Data Cleaning](https://www.kaggle.com/learn/data-cleaning) course.  You can reference the tutorial at [this link](https://www.kaggle.com/alexisbcook/character-encodings).**\n",
    "\n",
    "---\n"
   ]
  },
  {
   "cell_type": "markdown",
   "id": "faa4fc85",
   "metadata": {
    "papermill": {
     "duration": 0.004033,
     "end_time": "2022-07-18T07:33:01.861135",
     "exception": false,
     "start_time": "2022-07-18T07:33:01.857102",
     "status": "completed"
    },
    "tags": []
   },
   "source": [
    "In this exercise, you'll apply what you learned in the **Character encodings** tutorial.\n",
    "\n",
    "# Setup\n",
    "\n",
    "The questions below will give you feedback on your work. Run the following cell to set up the feedback system."
   ]
  },
  {
   "cell_type": "code",
   "execution_count": 1,
   "id": "9439569d",
   "metadata": {
    "execution": {
     "iopub.execute_input": "2022-07-18T07:33:01.872145Z",
     "iopub.status.busy": "2022-07-18T07:33:01.871231Z",
     "iopub.status.idle": "2022-07-18T07:33:01.958733Z",
     "shell.execute_reply": "2022-07-18T07:33:01.957850Z"
    },
    "papermill": {
     "duration": 0.095889,
     "end_time": "2022-07-18T07:33:01.961293",
     "exception": false,
     "start_time": "2022-07-18T07:33:01.865404",
     "status": "completed"
    },
    "tags": []
   },
   "outputs": [
    {
     "name": "stdout",
     "output_type": "stream",
     "text": [
      "Setup Complete\n"
     ]
    }
   ],
   "source": [
    "from learntools.core import binder\n",
    "binder.bind(globals())\n",
    "from learntools.data_cleaning.ex4 import *\n",
    "print(\"Setup Complete\")"
   ]
  },
  {
   "cell_type": "markdown",
   "id": "9f83537a",
   "metadata": {
    "papermill": {
     "duration": 0.004089,
     "end_time": "2022-07-18T07:33:01.969885",
     "exception": false,
     "start_time": "2022-07-18T07:33:01.965796",
     "status": "completed"
    },
    "tags": []
   },
   "source": [
    "# Get our environment set up\n",
    "\n",
    "The first thing we'll need to do is load in the libraries we'll be using."
   ]
  },
  {
   "cell_type": "code",
   "execution_count": 2,
   "id": "c866a5cf",
   "metadata": {
    "execution": {
     "iopub.execute_input": "2022-07-18T07:33:01.980536Z",
     "iopub.status.busy": "2022-07-18T07:33:01.979680Z",
     "iopub.status.idle": "2022-07-18T07:33:01.984132Z",
     "shell.execute_reply": "2022-07-18T07:33:01.983374Z"
    },
    "papermill": {
     "duration": 0.01195,
     "end_time": "2022-07-18T07:33:01.986118",
     "exception": false,
     "start_time": "2022-07-18T07:33:01.974168",
     "status": "completed"
    },
    "tags": []
   },
   "outputs": [],
   "source": [
    "# modules we'll use\n",
    "import pandas as pd\n",
    "import numpy as np\n",
    "\n",
    "# helpful character encoding module\n",
    "import chardet\n",
    "\n",
    "# set seed for reproducibility\n",
    "np.random.seed(0)"
   ]
  },
  {
   "cell_type": "markdown",
   "id": "ac1b2571",
   "metadata": {
    "papermill": {
     "duration": 0.004187,
     "end_time": "2022-07-18T07:33:01.994761",
     "exception": false,
     "start_time": "2022-07-18T07:33:01.990574",
     "status": "completed"
    },
    "tags": []
   },
   "source": [
    "# 1) What are encodings?\n",
    "\n",
    "You're working with a dataset composed of bytes.  Run the code cell below to print a sample entry."
   ]
  },
  {
   "cell_type": "code",
   "execution_count": 3,
   "id": "06914c2b",
   "metadata": {
    "execution": {
     "iopub.execute_input": "2022-07-18T07:33:02.005440Z",
     "iopub.status.busy": "2022-07-18T07:33:02.004743Z",
     "iopub.status.idle": "2022-07-18T07:33:02.010126Z",
     "shell.execute_reply": "2022-07-18T07:33:02.008795Z"
    },
    "papermill": {
     "duration": 0.013307,
     "end_time": "2022-07-18T07:33:02.012338",
     "exception": false,
     "start_time": "2022-07-18T07:33:01.999031",
     "status": "completed"
    },
    "tags": []
   },
   "outputs": [
    {
     "name": "stdout",
     "output_type": "stream",
     "text": [
      "b'\\xa7A\\xa6n'\n",
      "data type: <class 'bytes'>\n"
     ]
    }
   ],
   "source": [
    "sample_entry = b'\\xa7A\\xa6n'\n",
    "print(sample_entry)\n",
    "print('data type:', type(sample_entry))"
   ]
  },
  {
   "cell_type": "markdown",
   "id": "bd75f06d",
   "metadata": {
    "papermill": {
     "duration": 0.004153,
     "end_time": "2022-07-18T07:33:02.020969",
     "exception": false,
     "start_time": "2022-07-18T07:33:02.016816",
     "status": "completed"
    },
    "tags": []
   },
   "source": [
    "You notice that it doesn't use the standard UTF-8 encoding. \n",
    "\n",
    "Use the next code cell to create a variable `new_entry` that changes the encoding from `\"big5-tw\"` to `\"utf-8\"`.  `new_entry` should have the bytes datatype."
   ]
  },
  {
   "cell_type": "code",
   "execution_count": 4,
   "id": "8af7bb8e",
   "metadata": {
    "execution": {
     "iopub.execute_input": "2022-07-18T07:33:02.032141Z",
     "iopub.status.busy": "2022-07-18T07:33:02.031767Z",
     "iopub.status.idle": "2022-07-18T07:33:02.036413Z",
     "shell.execute_reply": "2022-07-18T07:33:02.035178Z"
    },
    "papermill": {
     "duration": 0.012737,
     "end_time": "2022-07-18T07:33:02.038704",
     "exception": false,
     "start_time": "2022-07-18T07:33:02.025967",
     "status": "completed"
    },
    "tags": []
   },
   "outputs": [],
   "source": [
    "\n",
    "before = sample_entry.decode(\"big5-tw\")\n",
    "new_entry = before.encode()\n"
   ]
  },
  {
   "cell_type": "code",
   "execution_count": 5,
   "id": "265ad4bb",
   "metadata": {
    "execution": {
     "iopub.execute_input": "2022-07-18T07:33:02.049551Z",
     "iopub.status.busy": "2022-07-18T07:33:02.048792Z",
     "iopub.status.idle": "2022-07-18T07:33:02.059951Z",
     "shell.execute_reply": "2022-07-18T07:33:02.058963Z"
    },
    "papermill": {
     "duration": 0.018969,
     "end_time": "2022-07-18T07:33:02.062022",
     "exception": false,
     "start_time": "2022-07-18T07:33:02.043053",
     "status": "completed"
    },
    "tags": []
   },
   "outputs": [
    {
     "data": {
      "application/javascript": [
       "parent.postMessage({\"jupyterEvent\": \"custom.exercise_interaction\", \"data\": {\"outcomeType\": 1, \"valueTowardsCompletion\": 0.3333333333333333, \"interactionType\": 1, \"questionType\": 1, \"questionId\": \"1_EncodingsIntro\", \"learnToolsVersion\": \"0.3.4\", \"failureMessage\": \"\", \"exceptionClass\": \"\", \"trace\": \"\"}}, \"*\")"
      ],
      "text/plain": [
       "<IPython.core.display.Javascript object>"
      ]
     },
     "metadata": {},
     "output_type": "display_data"
    },
    {
     "data": {
      "text/markdown": [
       "<span style=\"color:#33cc33\">Correct</span>"
      ],
      "text/plain": [
       "Correct"
      ]
     },
     "metadata": {},
     "output_type": "display_data"
    }
   ],
   "source": [
    "# Check your answer\n",
    "q1.check()"
   ]
  },
  {
   "cell_type": "code",
   "execution_count": 6,
   "id": "f4c8740d",
   "metadata": {
    "execution": {
     "iopub.execute_input": "2022-07-18T07:33:02.072681Z",
     "iopub.status.busy": "2022-07-18T07:33:02.072089Z",
     "iopub.status.idle": "2022-07-18T07:33:02.075757Z",
     "shell.execute_reply": "2022-07-18T07:33:02.074878Z"
    },
    "papermill": {
     "duration": 0.011259,
     "end_time": "2022-07-18T07:33:02.077646",
     "exception": false,
     "start_time": "2022-07-18T07:33:02.066387",
     "status": "completed"
    },
    "tags": []
   },
   "outputs": [],
   "source": [
    "# Lines below will give you a hint or solution code\n",
    "#q1.hint()\n",
    "#q1.solution()"
   ]
  },
  {
   "cell_type": "markdown",
   "id": "122e4b3a",
   "metadata": {
    "papermill": {
     "duration": 0.004346,
     "end_time": "2022-07-18T07:33:02.086604",
     "exception": false,
     "start_time": "2022-07-18T07:33:02.082258",
     "status": "completed"
    },
    "tags": []
   },
   "source": [
    "# 2) Reading in files with encoding problems\n",
    "\n",
    "Use the code cell below to read in this file at path `\"../input/fatal-police-shootings-in-the-us/PoliceKillingsUS.csv\"`.  \n",
    "\n",
    "Figure out what the correct encoding should be and read in the file to a DataFrame `police_killings`."
   ]
  },
  {
   "cell_type": "code",
   "execution_count": 7,
   "id": "f7f32159",
   "metadata": {
    "execution": {
     "iopub.execute_input": "2022-07-18T07:33:02.098279Z",
     "iopub.status.busy": "2022-07-18T07:33:02.097698Z",
     "iopub.status.idle": "2022-07-18T07:33:02.119688Z",
     "shell.execute_reply": "2022-07-18T07:33:02.118794Z"
    },
    "papermill": {
     "duration": 0.030515,
     "end_time": "2022-07-18T07:33:02.121743",
     "exception": false,
     "start_time": "2022-07-18T07:33:02.091228",
     "status": "completed"
    },
    "tags": []
   },
   "outputs": [
    {
     "data": {
      "application/javascript": [
       "parent.postMessage({\"jupyterEvent\": \"custom.exercise_interaction\", \"data\": {\"outcomeType\": 1, \"valueTowardsCompletion\": 0.3333333333333333, \"interactionType\": 1, \"questionType\": 1, \"questionId\": \"2_ReadIn\", \"learnToolsVersion\": \"0.3.4\", \"failureMessage\": \"\", \"exceptionClass\": \"\", \"trace\": \"\"}}, \"*\")"
      ],
      "text/plain": [
       "<IPython.core.display.Javascript object>"
      ]
     },
     "metadata": {},
     "output_type": "display_data"
    },
    {
     "data": {
      "text/markdown": [
       "<span style=\"color:#33cc33\">Correct</span>"
      ],
      "text/plain": [
       "Correct"
      ]
     },
     "metadata": {},
     "output_type": "display_data"
    }
   ],
   "source": [
    "# TODO: Load in the DataFrame correctly.\n",
    "\n",
    "police_killings = pd.read_csv(\"../input/fatal-police-shootings-in-the-us/PoliceKillingsUS.csv\", encoding='Windows-1252')\n",
    "\n",
    "# Check your answer\n",
    "q2.check()"
   ]
  },
  {
   "cell_type": "markdown",
   "id": "03b4e876",
   "metadata": {
    "papermill": {
     "duration": 0.004485,
     "end_time": "2022-07-18T07:33:02.131034",
     "exception": false,
     "start_time": "2022-07-18T07:33:02.126549",
     "status": "completed"
    },
    "tags": []
   },
   "source": [
    "Feel free to use any additional code cells for supplemental work.  To get credit for finishing this question, you'll need to run `q2.check()` and get a result of **Correct**."
   ]
  },
  {
   "cell_type": "code",
   "execution_count": 8,
   "id": "de82bc4b",
   "metadata": {
    "execution": {
     "iopub.execute_input": "2022-07-18T07:33:02.142402Z",
     "iopub.status.busy": "2022-07-18T07:33:02.141793Z",
     "iopub.status.idle": "2022-07-18T07:33:02.145909Z",
     "shell.execute_reply": "2022-07-18T07:33:02.144827Z"
    },
    "papermill": {
     "duration": 0.012767,
     "end_time": "2022-07-18T07:33:02.148507",
     "exception": false,
     "start_time": "2022-07-18T07:33:02.135740",
     "status": "completed"
    },
    "tags": []
   },
   "outputs": [],
   "source": [
    "# (Optional) Use this code cell for any additional work."
   ]
  },
  {
   "cell_type": "code",
   "execution_count": 9,
   "id": "35ae206c",
   "metadata": {
    "execution": {
     "iopub.execute_input": "2022-07-18T07:33:02.159820Z",
     "iopub.status.busy": "2022-07-18T07:33:02.159470Z",
     "iopub.status.idle": "2022-07-18T07:33:02.163615Z",
     "shell.execute_reply": "2022-07-18T07:33:02.162427Z"
    },
    "papermill": {
     "duration": 0.012417,
     "end_time": "2022-07-18T07:33:02.165734",
     "exception": false,
     "start_time": "2022-07-18T07:33:02.153317",
     "status": "completed"
    },
    "tags": []
   },
   "outputs": [],
   "source": [
    "# Lines below will give you a hint or solution code\n",
    "#q2.hint()\n",
    "#q2.solution()"
   ]
  },
  {
   "cell_type": "markdown",
   "id": "e8f938c5",
   "metadata": {
    "papermill": {
     "duration": 0.004247,
     "end_time": "2022-07-18T07:33:02.174819",
     "exception": false,
     "start_time": "2022-07-18T07:33:02.170572",
     "status": "completed"
    },
    "tags": []
   },
   "source": [
    "# 3) Saving your files with UTF-8 encoding\n",
    "\n",
    "Save a version of the police killings dataset to CSV with UTF-8 encoding.  Your answer will be marked correct after saving this file.  \n",
    "\n",
    "Note: When using the `to_csv()` method, supply only the name of the file (e.g., `\"my_file.csv\"`).  This saves the file at the filepath `\"/kaggle/working/my_file.csv\"`."
   ]
  },
  {
   "cell_type": "code",
   "execution_count": 10,
   "id": "edef17db",
   "metadata": {
    "execution": {
     "iopub.execute_input": "2022-07-18T07:33:02.185567Z",
     "iopub.status.busy": "2022-07-18T07:33:02.185171Z",
     "iopub.status.idle": "2022-07-18T07:33:02.203002Z",
     "shell.execute_reply": "2022-07-18T07:33:02.202003Z"
    },
    "papermill": {
     "duration": 0.026067,
     "end_time": "2022-07-18T07:33:02.205383",
     "exception": false,
     "start_time": "2022-07-18T07:33:02.179316",
     "status": "completed"
    },
    "tags": []
   },
   "outputs": [],
   "source": [
    "\n",
    "# TODO: Save the police killings dataset to CSV\n",
    "police_killings.to_csv(\"my_file.csv\")\n",
    "\n"
   ]
  },
  {
   "cell_type": "code",
   "execution_count": 11,
   "id": "9630808d",
   "metadata": {
    "execution": {
     "iopub.execute_input": "2022-07-18T07:33:02.218102Z",
     "iopub.status.busy": "2022-07-18T07:33:02.217288Z",
     "iopub.status.idle": "2022-07-18T07:33:02.235826Z",
     "shell.execute_reply": "2022-07-18T07:33:02.234732Z"
    },
    "papermill": {
     "duration": 0.027235,
     "end_time": "2022-07-18T07:33:02.237893",
     "exception": false,
     "start_time": "2022-07-18T07:33:02.210658",
     "status": "completed"
    },
    "tags": []
   },
   "outputs": [
    {
     "data": {
      "application/javascript": [
       "parent.postMessage({\"jupyterEvent\": \"custom.exercise_interaction\", \"data\": {\"outcomeType\": 1, \"valueTowardsCompletion\": 0.3333333333333333, \"interactionType\": 1, \"questionType\": 2, \"questionId\": \"3_SaveCSV\", \"learnToolsVersion\": \"0.3.4\", \"failureMessage\": \"\", \"exceptionClass\": \"\", \"trace\": \"\"}}, \"*\")"
      ],
      "text/plain": [
       "<IPython.core.display.Javascript object>"
      ]
     },
     "metadata": {},
     "output_type": "display_data"
    },
    {
     "data": {
      "text/markdown": [
       "<span style=\"color:#33cc33\">Correct</span>"
      ],
      "text/plain": [
       "Correct"
      ]
     },
     "metadata": {},
     "output_type": "display_data"
    }
   ],
   "source": [
    "\n",
    "# Check your answer\n",
    "q3.check()"
   ]
  },
  {
   "cell_type": "code",
   "execution_count": 12,
   "id": "c29d6e0c",
   "metadata": {
    "execution": {
     "iopub.execute_input": "2022-07-18T07:33:02.249450Z",
     "iopub.status.busy": "2022-07-18T07:33:02.248689Z",
     "iopub.status.idle": "2022-07-18T07:33:02.252612Z",
     "shell.execute_reply": "2022-07-18T07:33:02.251778Z"
    },
    "papermill": {
     "duration": 0.011939,
     "end_time": "2022-07-18T07:33:02.254649",
     "exception": false,
     "start_time": "2022-07-18T07:33:02.242710",
     "status": "completed"
    },
    "tags": []
   },
   "outputs": [],
   "source": [
    "# Lines below will give you a hint or solution code\n",
    "#q3.hint()\n",
    "#q3.solution()"
   ]
  },
  {
   "cell_type": "markdown",
   "id": "4809c386",
   "metadata": {
    "papermill": {
     "duration": 0.004519,
     "end_time": "2022-07-18T07:33:02.264163",
     "exception": false,
     "start_time": "2022-07-18T07:33:02.259644",
     "status": "completed"
    },
    "tags": []
   },
   "source": [
    "# (Optional) More practice\n",
    "\n",
    "Check out [this dataset of files in different character encodings](https://www.kaggle.com/rtatman/character-encoding-examples). Can you read in all the files with their original encodings and them save them out as UTF-8 files?\n",
    "\n",
    "If you have a file that's in UTF-8 but has just a couple of weird-looking characters in it, you can try out the [ftfy module](https://ftfy.readthedocs.io/en/latest/#) and see if it helps. \n",
    "\n",
    "# Keep going\n",
    "\n",
    "In the final lesson, learn how to [**clean up inconsistent text entries**](https://www.kaggle.com/alexisbcook/inconsistent-data-entry) in your dataset."
   ]
  },
  {
   "cell_type": "markdown",
   "id": "1e72c74b",
   "metadata": {
    "papermill": {
     "duration": 0.004494,
     "end_time": "2022-07-18T07:33:02.273591",
     "exception": false,
     "start_time": "2022-07-18T07:33:02.269097",
     "status": "completed"
    },
    "tags": []
   },
   "source": [
    "---\n",
    "\n",
    "\n",
    "\n",
    "\n",
    "*Have questions or comments? Visit the [course discussion forum](https://www.kaggle.com/learn/data-cleaning/discussion) to chat with other learners.*"
   ]
  }
 ],
 "metadata": {
  "kernelspec": {
   "display_name": "Python 3",
   "language": "python",
   "name": "python3"
  },
  "language_info": {
   "codemirror_mode": {
    "name": "ipython",
    "version": 3
   },
   "file_extension": ".py",
   "mimetype": "text/x-python",
   "name": "python",
   "nbconvert_exporter": "python",
   "pygments_lexer": "ipython3",
   "version": "3.7.12"
  },
  "papermill": {
   "default_parameters": {},
   "duration": 10.345092,
   "end_time": "2022-07-18T07:33:02.898293",
   "environment_variables": {},
   "exception": null,
   "input_path": "__notebook__.ipynb",
   "output_path": "__notebook__.ipynb",
   "parameters": {},
   "start_time": "2022-07-18T07:32:52.553201",
   "version": "2.3.4"
  }
 },
 "nbformat": 4,
 "nbformat_minor": 5
}
